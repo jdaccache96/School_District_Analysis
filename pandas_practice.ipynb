{
 "cells": [
  {
   "cell_type": "code",
   "execution_count": null,
   "id": "2bdf47a8-8ed1-42da-a270-fb47c5363145",
   "metadata": {},
   "outputs": [],
   "source": [
    "#List of high schools\n",
    "high_schools = [\"Hernandez High School\", \"Figueroa High School\", \"Wilson High School\", \"Wright High School\"]\n",
    "for school in high_schools:\n",
    "    print(school)"
   ]
  },
  {
   "cell_type": "code",
   "execution_count": null,
   "id": "d18ad38d-666f-41a0-9b65-0fb24d091134",
   "metadata": {},
   "outputs": [],
   "source": [
    "#A dictionary of high schools and the type of school\n",
    "high_school_types = [{\"High School\": \"Griffin\", \"Type\": \"District\"},\n",
    "                     {\"High School\": \"Figueroa\", \"Type\": \"District\"}, \n",
    "                     {\"High School\": \"Wilson\", \"Type\": \"Charter\"}, \n",
    "                     {\"High School\": \"Wright\", \"Type\": \"Charter\"}]"
   ]
  },
  {
   "cell_type": "code",
   "execution_count": null,
   "id": "86469a2c-9784-4f12-9e15-d21a7e31c110",
   "metadata": {},
   "outputs": [],
   "source": [
    "#Creating a list of high schools to be extracted and analzyed by Pandas\n",
    "high_schools = [\"Huang High School\", \"Figueroa High School\", \"Shelton High School\", \"Hernandez High School\", \"Griffin High School\", \"Wilson High School\", \"Cabrera High School\", \"Bailey High School\", \"Holden High School\", \"Pena High School\", \"Wright High School\", \"Rodriguez High School\", \"Johnson High School\", \"Ford High School\", \"Thomas High School\"]\n"
   ]
  },
  {
   "cell_type": "code",
   "execution_count": 1,
   "id": "7974bb29-6fb0-45e0-bd21-ba508552b9ab",
   "metadata": {},
   "outputs": [],
   "source": [
    "import pandas as pd"
   ]
  },
  {
   "cell_type": "code",
   "execution_count": null,
   "id": "1628f17b-d967-4c3f-88c8-f8d5d1636d38",
   "metadata": {},
   "outputs": [],
   "source": [
    "#Create a Pandas Series from a list\n",
    "#Assign it a variable so it's easily called\n",
    "school_series = pd.Series(high_schools)\n",
    "for school in school_series:\n",
    "    print(school)"
   ]
  },
  {
   "cell_type": "code",
   "execution_count": null,
   "id": "3373b34f-820c-4674-9077-848d30a0ccd0",
   "metadata": {},
   "outputs": [],
   "source": [
    "#Dictionary of High Schools\n",
    "high_school_dicts = [{\"School ID\": 0, \"school_name\": \"Huang High School\", \"type\": \"District\"},\n",
    "                      {\"School ID\": 1, \"school_name\": \"Figueroa High School\", \"type\": \"District\"}, \n",
    "                      {\"School ID\": 2, \"school_name\": \"Shelton High School\", \"type\": \"Charter\"}, \n",
    "                      {\"School ID\": 3, \"school_name\": \"Hernandez High School\", \"type\": \"District\"}, \n",
    "                      {\"School ID\": 4, \"school_name\": \"Griffin High School\", \"type\": \"Charter\"}]"
   ]
  },
  {
   "cell_type": "code",
   "execution_count": null,
   "id": "18d902b4-5f7f-490f-90c4-994afc04a77f",
   "metadata": {},
   "outputs": [],
   "source": [
    "school_df = pd.DataFrame(high_school_dicts)\n",
    "school_df"
   ]
  },
  {
   "cell_type": "code",
   "execution_count": null,
   "id": "bb8fb6fb-23a1-4904-b832-cc561de88b14",
   "metadata": {},
   "outputs": [],
   "source": [
    "#3 Separate lists of information on high schools\n",
    "school_id = [0,1,2,3,4]\n",
    "\n",
    "school_name = [\"Huang High School\", \"Figueroa High School\", \"Shelton High School\", \"Hernandez High School\", \"Griffin High School\"]\n",
    "\n",
    "type_of_school = [\"District\", \"District\", \"Charter\", \"District\", \"Charter\"]"
   ]
  },
  {
   "cell_type": "code",
   "execution_count": null,
   "id": "61843c34-30c1-4205-bdf5-27504a193a9a",
   "metadata": {},
   "outputs": [],
   "source": [
    "#Initialize a new DataFrame\n",
    "schools_df = pd.DataFrame()\n",
    "#Add the list to a new DataFrame\n",
    "schools_df[\"School ID\"] = school_id\n",
    "schools_df[\"School Name\"] = school_name\n",
    "schools_df[\"Type of School\"] = type_of_school\n",
    "\n",
    "schools_df"
   ]
  },
  {
   "cell_type": "code",
   "execution_count": null,
   "id": "59f3a859-a30c-459e-b341-359a932cbebf",
   "metadata": {},
   "outputs": [],
   "source": []
  }
 ],
 "metadata": {
  "kernelspec": {
   "display_name": "PythonData",
   "language": "python",
   "name": "pythondata"
  },
  "language_info": {
   "codemirror_mode": {
    "name": "ipython",
    "version": 3
   },
   "file_extension": ".py",
   "mimetype": "text/x-python",
   "name": "python",
   "nbconvert_exporter": "python",
   "pygments_lexer": "ipython3",
   "version": "3.12.7"
  }
 },
 "nbformat": 4,
 "nbformat_minor": 5
}
