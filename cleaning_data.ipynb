{
 "cells": [
  {
   "cell_type": "code",
   "execution_count": 1,
   "id": "c780f06e-f3bb-4492-8607-71eef1d42f79",
   "metadata": {},
   "outputs": [],
   "source": [
    "import pandas as pd\n",
    "import os"
   ]
  },
  {
   "cell_type": "code",
   "execution_count": 2,
   "id": "d6181ef4-da78-434a-91ba-07da21dc2101",
   "metadata": {},
   "outputs": [],
   "source": [
    "file_to_load = os.path.join(\"Resources\",\"missing_grades.csv\")\n",
    "missing_grades_df = pd.read_csv(file_to_load)\n"
   ]
  },
  {
   "cell_type": "code",
   "execution_count": null,
   "id": "9e878279-7fbe-4c1a-89bc-8393fcdc409f",
   "metadata": {},
   "outputs": [],
   "source": [
    "#Can do nothing about NaN if you're just summing numbers, but functions will be impacted with multiplying, etc. \n",
    "#Can use dropna() to drop the entire row, but that will lose data for the rest of the columns\n",
    "#Can use fillna() to fill in empty rows: must be careful and check how it would affect the data analysis\n",
    "    #missing_grades_df.dropna()\n",
    "missing_grades_df.fillna(0)"
   ]
  },
  {
   "cell_type": "code",
   "execution_count": null,
   "id": "138c5902-3bbc-41df-aa74-e2713b125580",
   "metadata": {},
   "outputs": [],
   "source": [
    "missing_grades_df.dtypes\n",
    "missing_grades_df.math_score.dtype       \n",
    "missing_grades_df[\"Student ID\"].dtype"
   ]
  }
 ],
 "metadata": {
  "kernelspec": {
   "display_name": "PythonData",
   "language": "python",
   "name": "pythondata"
  },
  "language_info": {
   "codemirror_mode": {
    "name": "ipython",
    "version": 3
   },
   "file_extension": ".py",
   "mimetype": "text/x-python",
   "name": "python",
   "nbconvert_exporter": "python",
   "pygments_lexer": "ipython3",
   "version": "3.12.7"
  }
 },
 "nbformat": 4,
 "nbformat_minor": 5
}
