{
 "cells": [
  {
   "cell_type": "code",
   "execution_count": 13,
   "id": "12cf5d22-2baf-4e2c-8550-994e6b030e4b",
   "metadata": {},
   "outputs": [],
   "source": [
    "import pandas as pd\n",
    "import os "
   ]
  },
  {
   "cell_type": "code",
   "execution_count": 1,
   "id": "4f8aa29f-14ad-4cb8-9ff1-948dcb4c91fa",
   "metadata": {},
   "outputs": [],
   "source": [
    "def say_hello():\n",
    "    print(\"Hello!\")"
   ]
  },
  {
   "cell_type": "code",
   "execution_count": 2,
   "id": "d0842b62-03da-4479-9938-baf058a6b699",
   "metadata": {},
   "outputs": [
    {
     "name": "stdout",
     "output_type": "stream",
     "text": [
      "Hello!\n"
     ]
    }
   ],
   "source": [
    "say_hello()"
   ]
  },
  {
   "cell_type": "code",
   "execution_count": 7,
   "id": "19c2ef2d-68ba-4a3f-b2ee-761517e5041f",
   "metadata": {},
   "outputs": [],
   "source": [
    "#Parameter is a value that we send to the function\n",
    "def say_something(doodat):\n",
    "    print(doodat)"
   ]
  },
  {
   "cell_type": "code",
   "execution_count": 8,
   "id": "d715a354-23be-4313-9823-d88846f342b1",
   "metadata": {},
   "outputs": [
    {
     "name": "stdout",
     "output_type": "stream",
     "text": [
      "I love my girlfriend\n"
     ]
    }
   ],
   "source": [
    "say_something(\"I love my girlfriend\")"
   ]
  },
  {
   "cell_type": "code",
   "execution_count": 9,
   "id": "7307120c-4b90-4e0a-a625-73b3c1e9330f",
   "metadata": {},
   "outputs": [
    {
     "name": "stdout",
     "output_type": "stream",
     "text": [
      "I love my boyfriend\n"
     ]
    }
   ],
   "source": [
    "hannah_says = \"I love my boyfriend\"\n",
    "say_something(hannah_says)"
   ]
  },
  {
   "cell_type": "code",
   "execution_count": 10,
   "id": "04db6847-fe27-4568-8bf9-cf7b762dfe87",
   "metadata": {},
   "outputs": [],
   "source": [
    "#Define a function that calculates the percentage of students that passed both math and reading\n",
    "#Returns the passing percentage when the function is called\n",
    "\n",
    "#\"Return\" function has unique purpose of ending the function and returning what is in front of the statement\n",
    "passing_math_count = 29370\n",
    "total_student_count = 39170\n",
    "\n",
    "def passing_math_percent(pass_math_count, student_count):\n",
    "    return pass_math_count / float(student_count) * 100"
   ]
  },
  {
   "cell_type": "code",
   "execution_count": 11,
   "id": "8a85f817-77fa-4509-915f-5e77c9006ed1",
   "metadata": {},
   "outputs": [
    {
     "data": {
      "text/plain": [
       "74.9808526933878"
      ]
     },
     "execution_count": 11,
     "metadata": {},
     "output_type": "execute_result"
    }
   ],
   "source": [
    "passing_math_percent(passing_math_count, total_student_count)"
   ]
  },
  {
   "cell_type": "code",
   "execution_count": 14,
   "id": "5a219623-6eb3-4973-b9e3-8f82f0ed8a86",
   "metadata": {},
   "outputs": [
    {
     "data": {
      "text/plain": [
       "0    B\n",
       "1    C\n",
       "2    B\n",
       "3    D\n",
       "dtype: object"
      ]
     },
     "execution_count": 14,
     "metadata": {},
     "output_type": "execute_result"
    }
   ],
   "source": [
    "#A list of my grades\n",
    "my_grades = [\"B\",\"C\",\"B\",\"D\"]\n",
    "#Covert my grades to a series\n",
    "my_grades = pd.Series(my_grades)\n",
    "my_grades"
   ]
  },
  {
   "cell_type": "code",
   "execution_count": 15,
   "id": "12f04f3d-fd45-4295-b484-f4a5f709f948",
   "metadata": {},
   "outputs": [
    {
     "data": {
      "text/plain": [
       "0    A\n",
       "1    B\n",
       "2    A\n",
       "3    C\n",
       "dtype: object"
      ]
     },
     "execution_count": 15,
     "metadata": {},
     "output_type": "execute_result"
    }
   ],
   "source": [
    "#map(current value 1: new value 1, current value 2: new value 2)\n",
    "my_grades.map({\"B\":\"A\", \"C\":\"B\", \"D\":\"C\"})"
   ]
  },
  {
   "cell_type": "code",
   "execution_count": 21,
   "id": "1630f40a-202a-4d29-8ebf-1a7ab839e8b7",
   "metadata": {},
   "outputs": [
    {
     "name": "stdout",
     "output_type": "stream",
     "text": [
      "92\n",
      "85\n",
      "87\n",
      "98\n"
     ]
    }
   ],
   "source": [
    "#Using the format() function\n",
    "#\"{value: format specification}\".format(value)\n",
    "my_grades = [92.34, 84.56, 86.78, 98.32]\n",
    "\n",
    "for grade in my_grades:\n",
    "    print(\"{:.0f}\".format(grade))"
   ]
  },
  {
   "cell_type": "code",
   "execution_count": 26,
   "id": "ff3eaef8-42e1-43f4-b6ac-3724027b60d2",
   "metadata": {},
   "outputs": [
    {
     "data": {
      "text/plain": [
       "0    92.34\n",
       "1    84.56\n",
       "2    86.78\n",
       "3    78.32\n",
       "dtype: float64"
      ]
     },
     "execution_count": 26,
     "metadata": {},
     "output_type": "execute_result"
    }
   ],
   "source": [
    "my_grades = pd.Series(my_grades)\n",
    "my_grades"
   ]
  },
  {
   "cell_type": "code",
   "execution_count": 27,
   "id": "b6df44b4-32db-4eae-a6d1-f9fa51723c01",
   "metadata": {},
   "outputs": [
    {
     "data": {
      "text/plain": [
       "0    92\n",
       "1    85\n",
       "2    87\n",
       "3    78\n",
       "dtype: object"
      ]
     },
     "execution_count": 27,
     "metadata": {},
     "output_type": "execute_result"
    }
   ],
   "source": [
    "#Format the grades to the nearest whole number percent\n",
    "my_grades.map(\"{:.0f}\".format)"
   ]
  },
  {
   "cell_type": "code",
   "execution_count": null,
   "id": "f2752fce-fa5d-4f16-a232-d4cc25151d58",
   "metadata": {},
   "outputs": [],
   "source": []
  }
 ],
 "metadata": {
  "kernelspec": {
   "display_name": "PythonData",
   "language": "python",
   "name": "pythondata"
  },
  "language_info": {
   "codemirror_mode": {
    "name": "ipython",
    "version": 3
   },
   "file_extension": ".py",
   "mimetype": "text/x-python",
   "name": "python",
   "nbconvert_exporter": "python",
   "pygments_lexer": "ipython3",
   "version": "3.12.7"
  }
 },
 "nbformat": 4,
 "nbformat_minor": 5
}
